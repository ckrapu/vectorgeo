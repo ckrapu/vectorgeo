{
 "cells": [
  {
   "cell_type": "code",
   "execution_count": 1,
   "metadata": {},
   "outputs": [],
   "source": [
    "\n",
    "\n",
    "from landcover import LandCoverProportions\n",
    "\n",
    "lc_path         = os.path.join(c.DATA_DIR, c.COPERNICUS_LC_KEY)\n",
    "boundaries_path = os.path.join(c.DATA_DIR, \"wb_countries_admin0_10m.zip\")\n",
    "\n",
    "# Load secrets\n",
    "with open(c.SECRETS_PATH, 'r') as f:\n",
    "    secrets = yaml.safe_load(f)\n",
    "\n",
    "aws_access_key_id     = secrets['aws_access_key_id']\n",
    "aws_secret_access_key = secrets['aws_secret_access_key']\n",
    "\n",
    "s3 = boto3.resource('s3', aws_access_key_id=aws_access_key_id, aws_secret_access_key=aws_secret_access_key)"
   ]
  },
  {
   "cell_type": "markdown",
   "metadata": {},
   "source": [
    "# Attempt to download files from S3"
   ]
  },
  {
   "cell_type": "markdown",
   "metadata": {},
   "source": [
    "If the file can't be found on S3, attempt to upload it from the local filesystem."
   ]
  },
  {
   "cell_type": "code",
   "execution_count": 2,
   "metadata": {},
   "outputs": [
    {
     "name": "stdout",
     "output_type": "stream",
     "text": [
      "/Users/chriskrapu/Dropbox/projects/vectorgeo/data/PROBAV_LC100_global_v3.0.1_2019-nrt_Discrete-Classification-map_EPSG-4326.tif already exists, skipping download\n",
      "/Users/chriskrapu/Dropbox/projects/vectorgeo/data/wb_countries_admin0_10m.zip already exists, skipping download\n"
     ]
    }
   ],
   "source": [
    "for filepath in [lc_path, boundaries_path]:\n",
    "    if os.path.exists(filepath):\n",
    "        print(f\"{filepath} already exists, skipping download\")\n",
    "    else:\n",
    "        try:\n",
    "            filename = os.path.basename(filepath)\n",
    "            # Download the file from s3\n",
    "            print(f\"Downloading {filename} from s3\")\n",
    "            s3.Bucket(c.S3_BUCKET).download_file('raw/' + filename, filepath)\n",
    "        except botocore.exceptions.ClientError as e:\n",
    "            if e.response['Error']['Code'] == \"404\":\n",
    "                print(\"The object does not exist.\")\n",
    "\n",
    "                # Attempt to upload the file to s3\n",
    "                try:\n",
    "                    print(f\"Uploading {filename} to s3\")\n",
    "                    s3.Bucket(c.S3_BUCKET).upload_file(filepath, filename)\n",
    "                except botocore.exceptions.ClientError as e:\n",
    "                    print(e)\n",
    "                    raise e"
   ]
  },
  {
   "cell_type": "markdown",
   "metadata": {},
   "source": [
    "# Create geometries for sampling from valid locations"
   ]
  },
  {
   "cell_type": "code",
   "execution_count": 3,
   "metadata": {},
   "outputs": [],
   "source": [
    "boundaries_gdf = gpd.read_file('data/WB_countries_Admin0_10m/WB_countries_Admin0_10m.shp')\n",
    "world_gdf = gpd.GeoDataFrame(geometry=[boundaries_gdf.unary_union], crs=boundaries_gdf.crs)"
   ]
  },
  {
   "cell_type": "markdown",
   "metadata": {},
   "source": [
    "# Load raster into memory"
   ]
  },
  {
   "cell_type": "code",
   "execution_count": 4,
   "metadata": {},
   "outputs": [],
   "source": [
    "lcp = LandCoverProportions(lc_path, world_gdf)"
   ]
  },
  {
   "cell_type": "markdown",
   "metadata": {},
   "source": [
    "# Sampling / zonal statistics loop"
   ]
  },
  {
   "cell_type": "code",
   "execution_count": 5,
   "metadata": {},
   "outputs": [
    {
     "name": "stderr",
     "output_type": "stream",
     "text": [
      "  0%|          | 0/10000 [00:00<?, ?it/s]/Users/chriskrapu/Dropbox/projects/vectorgeo/vg-venv/lib/python3.9/site-packages/rasterstats/io.py:328: NodataWarning: Setting nodata to -999; specify nodata explicitly\n",
      "  warnings.warn(\n",
      " 31%|███       | 3073/10000 [58:42<2:12:19,  1.15s/it]\n",
      "  0%|          | 0/10000 [58:42<?, ?it/s]\n"
     ]
    },
    {
     "ename": "NameError",
     "evalue": "name 'data' is not defined",
     "output_type": "error",
     "traceback": [
      "\u001b[0;31m---------------------------------------------------------------------------\u001b[0m",
      "\u001b[0;31mKeyboardInterrupt\u001b[0m                         Traceback (most recent call last)",
      "Cell \u001b[0;32mIn[5], line 10\u001b[0m\n\u001b[1;32m      9\u001b[0m \u001b[39mtry\u001b[39;00m:\n\u001b[0;32m---> 10\u001b[0m     data \u001b[39m=\u001b[39m \u001b[39mlist\u001b[39;49m(lcp\u001b[39m.\u001b[39;49mgenerate_proportions(\u001b[39m10_000\u001b[39;49m, c\u001b[39m.\u001b[39;49mLC_K_RING_SETS, c\u001b[39m.\u001b[39;49mLC_H3_RES))\n\u001b[1;32m     11\u001b[0m     h3_idx, records \u001b[39m=\u001b[39m [x[\u001b[39m0\u001b[39m] \u001b[39mfor\u001b[39;00m x \u001b[39min\u001b[39;00m data], [x[\u001b[39m1\u001b[39m] \u001b[39mfor\u001b[39;00m x \u001b[39min\u001b[39;00m data]\n",
      "File \u001b[0;32m~/Dropbox/projects/vectorgeo/landcover.py:82\u001b[0m, in \u001b[0;36mgenerate_proportions\u001b[0;34m(self, N, ring_tuples, resolution)\u001b[0m\n\u001b[1;32m     80\u001b[0m \u001b[39mdef\u001b[39;00m \u001b[39m_expand_proportions\u001b[39m(\u001b[39mself\u001b[39m, prop_dict):\n\u001b[1;32m     81\u001b[0m     \u001b[39mreturn\u001b[39;00m {\n\u001b[0;32m---> 82\u001b[0m         \u001b[39mf\u001b[39m\u001b[39m'\u001b[39m\u001b[39mring_\u001b[39m\u001b[39m{\u001b[39;00mh3_ring\u001b[39m}\u001b[39;00m\u001b[39m_\u001b[39m\u001b[39m{\u001b[39;00mk\u001b[39m}\u001b[39;00m\u001b[39m'\u001b[39m: inner_dict\u001b[39m.\u001b[39mget(k, \u001b[39m0\u001b[39m)\n\u001b[1;32m     83\u001b[0m         \u001b[39mfor\u001b[39;00m h3_ring, inner_dict \u001b[39min\u001b[39;00m prop_dict\u001b[39m.\u001b[39mitems()\n\u001b[1;32m     84\u001b[0m         \u001b[39mfor\u001b[39;00m k \u001b[39min\u001b[39;00m c\u001b[39m.\u001b[39mLC_LEGEND\u001b[39m.\u001b[39mkeys()\n\u001b[1;32m     85\u001b[0m     }\n",
      "File \u001b[0;32m~/Dropbox/projects/vectorgeo/landcover.py:83\u001b[0m, in \u001b[0;36m<dictcomp>\u001b[0;34m(.0)\u001b[0m\n\u001b[1;32m     80\u001b[0m \u001b[39mdef\u001b[39;00m \u001b[39m_expand_proportions\u001b[39m(\u001b[39mself\u001b[39m, prop_dict):\n\u001b[1;32m     81\u001b[0m     \u001b[39mreturn\u001b[39;00m {\n\u001b[1;32m     82\u001b[0m         \u001b[39mf\u001b[39m\u001b[39m'\u001b[39m\u001b[39mring_\u001b[39m\u001b[39m{\u001b[39;00mh3_ring\u001b[39m}\u001b[39;00m\u001b[39m_\u001b[39m\u001b[39m{\u001b[39;00mk\u001b[39m}\u001b[39;00m\u001b[39m'\u001b[39m: inner_dict\u001b[39m.\u001b[39mget(k, \u001b[39m0\u001b[39m)\n\u001b[0;32m---> 83\u001b[0m         \u001b[39mfor\u001b[39;00m h3_ring, inner_dict \u001b[39min\u001b[39;00m prop_dict\u001b[39m.\u001b[39mitems()\n\u001b[1;32m     84\u001b[0m         \u001b[39mfor\u001b[39;00m k \u001b[39min\u001b[39;00m c\u001b[39m.\u001b[39mLC_LEGEND\u001b[39m.\u001b[39mkeys()\n\u001b[1;32m     85\u001b[0m     }\n",
      "File \u001b[0;32m~/Dropbox/projects/vectorgeo/landcover.py:57\u001b[0m, in \u001b[0;36m_get_proportions\u001b[0;34m(self, lng_lat, radii, resolution)\u001b[0m\n\u001b[1;32m     56\u001b[0m ring_sets \u001b[39m=\u001b[39m [h3\u001b[39m.\u001b[39mk_ring(h3_index, r) \u001b[39mfor\u001b[39;00m r \u001b[39min\u001b[39;00m radii]\n\u001b[0;32m---> 57\u001b[0m hexagons \u001b[39m=\u001b[39m h3\u001b[39m.\u001b[39mcompact(\u001b[39mset\u001b[39m()\u001b[39m.\u001b[39munion(\u001b[39m*\u001b[39mring_sets))\n\u001b[1;32m     59\u001b[0m geometries \u001b[39m=\u001b[39m [\n\u001b[1;32m     60\u001b[0m     {\n\u001b[1;32m     61\u001b[0m         \u001b[39m'\u001b[39m\u001b[39mtype\u001b[39m\u001b[39m'\u001b[39m: \u001b[39m'\u001b[39m\u001b[39mPolygon\u001b[39m\u001b[39m'\u001b[39m,\n\u001b[0;32m   (...)\u001b[0m\n\u001b[1;32m     64\u001b[0m     \u001b[39mfor\u001b[39;00m hexagon \u001b[39min\u001b[39;00m hexagons\n\u001b[1;32m     65\u001b[0m ]\n",
      "File \u001b[0;32m~/Dropbox/projects/vectorgeo/vg-venv/lib/python3.9/site-packages/rasterstats/main.py:36\u001b[0m, in \u001b[0;36mzonal_stats\u001b[0;34m(*args, **kwargs)\u001b[0m\n\u001b[1;32m     29\u001b[0m \u001b[39m\u001b[39m\u001b[39m\"\"\"The primary zonal statistics entry point.\u001b[39;00m\n\u001b[1;32m     30\u001b[0m \n\u001b[1;32m     31\u001b[0m \u001b[39mAll arguments are passed directly to ``gen_zonal_stats``.\u001b[39;00m\n\u001b[0;32m   (...)\u001b[0m\n\u001b[1;32m     34\u001b[0m \u001b[39mThe only difference is that ``zonal_stats`` will\u001b[39;00m\n\u001b[1;32m     35\u001b[0m \u001b[39mreturn a list rather than a generator.\"\"\"\u001b[39;00m\n\u001b[0;32m---> 36\u001b[0m \u001b[39mreturn\u001b[39;00m \u001b[39mlist\u001b[39;49m(gen_zonal_stats(\u001b[39m*\u001b[39;49margs, \u001b[39m*\u001b[39;49m\u001b[39m*\u001b[39;49mkwargs))\n",
      "File \u001b[0;32m~/Dropbox/projects/vectorgeo/vg-venv/lib/python3.9/site-packages/rasterstats/main.py:174\u001b[0m, in \u001b[0;36mgen_zonal_stats\u001b[0;34m(vectors, raster, layer, band, nodata, affine, stats, all_touched, categorical, category_map, add_stats, zone_func, raster_out, prefix, geojson_out, boundless, **kwargs)\u001b[0m\n\u001b[1;32m    173\u001b[0m \u001b[39m# rasterized geometry\u001b[39;00m\n\u001b[0;32m--> 174\u001b[0m rv_array \u001b[39m=\u001b[39m rasterize_geom(geom, like\u001b[39m=\u001b[39;49mfsrc, all_touched\u001b[39m=\u001b[39;49mall_touched)\n\u001b[1;32m    176\u001b[0m \u001b[39m# nodata mask\u001b[39;00m\n",
      "File \u001b[0;32m~/Dropbox/projects/vectorgeo/vg-venv/lib/python3.9/site-packages/rasterstats/utils.py:46\u001b[0m, in \u001b[0;36mrasterize_geom\u001b[0;34m(geom, like, all_touched)\u001b[0m\n\u001b[1;32m     45\u001b[0m geoms \u001b[39m=\u001b[39m [(geom, \u001b[39m1\u001b[39m)]\n\u001b[0;32m---> 46\u001b[0m rv_array \u001b[39m=\u001b[39m features\u001b[39m.\u001b[39;49mrasterize(\n\u001b[1;32m     47\u001b[0m     geoms,\n\u001b[1;32m     48\u001b[0m     out_shape\u001b[39m=\u001b[39;49mlike\u001b[39m.\u001b[39;49mshape,\n\u001b[1;32m     49\u001b[0m     transform\u001b[39m=\u001b[39;49mlike\u001b[39m.\u001b[39;49maffine,\n\u001b[1;32m     50\u001b[0m     fill\u001b[39m=\u001b[39;49m\u001b[39m0\u001b[39;49m,\n\u001b[1;32m     51\u001b[0m     dtype\u001b[39m=\u001b[39;49m\u001b[39m\"\u001b[39;49m\u001b[39muint8\u001b[39;49m\u001b[39m\"\u001b[39;49m,\n\u001b[1;32m     52\u001b[0m     all_touched\u001b[39m=\u001b[39;49mall_touched,\n\u001b[1;32m     53\u001b[0m )\n\u001b[1;32m     55\u001b[0m \u001b[39mreturn\u001b[39;00m rv_array\u001b[39m.\u001b[39mastype(\u001b[39mbool\u001b[39m)\n",
      "File \u001b[0;32m~/Dropbox/projects/vectorgeo/vg-venv/lib/python3.9/site-packages/rasterio/env.py:401\u001b[0m, in \u001b[0;36mensure_env.<locals>.wrapper\u001b[0;34m(*args, **kwds)\u001b[0m\n\u001b[1;32m    400\u001b[0m \u001b[39mwith\u001b[39;00m Env\u001b[39m.\u001b[39mfrom_defaults():\n\u001b[0;32m--> 401\u001b[0m     \u001b[39mreturn\u001b[39;00m f(\u001b[39m*\u001b[39;49margs, \u001b[39m*\u001b[39;49m\u001b[39m*\u001b[39;49mkwds)\n",
      "File \u001b[0;32m~/Dropbox/projects/vectorgeo/vg-venv/lib/python3.9/site-packages/rasterio/features.py:366\u001b[0m, in \u001b[0;36mrasterize\u001b[0;34m(shapes, out_shape, fill, out, transform, all_touched, merge_alg, default_value, dtype)\u001b[0m\n\u001b[1;32m    365\u001b[0m transform \u001b[39m=\u001b[39m guard_transform(transform)\n\u001b[0;32m--> 366\u001b[0m _rasterize(valid_shapes, out, transform, all_touched, merge_alg)\n\u001b[1;32m    367\u001b[0m \u001b[39mreturn\u001b[39;00m out\n",
      "File \u001b[0;32mrasterio/_features.pyx:373\u001b[0m, in \u001b[0;36mrasterio._features._rasterize\u001b[0;34m()\u001b[0m\n",
      "File \u001b[0;32mrasterio/_base.pyx:445\u001b[0m, in \u001b[0;36mrasterio._base.DatasetBase.__enter__\u001b[0;34m()\u001b[0m\n",
      "File \u001b[0;32m~/Dropbox/projects/vectorgeo/vg-venv/lib/python3.9/site-packages/rasterio/env.py:378\u001b[0m, in \u001b[0;36menv_ctx_if_needed\u001b[0;34m()\u001b[0m\n\u001b[1;32m    375\u001b[0m         \u001b[39mpass\u001b[39;00m\n\u001b[0;32m--> 378\u001b[0m \u001b[39mdef\u001b[39;00m \u001b[39menv_ctx_if_needed\u001b[39m():\n\u001b[1;32m    379\u001b[0m \u001b[39m    \u001b[39m\u001b[39m\"\"\"Return an Env if one does not exist\u001b[39;00m\n\u001b[1;32m    380\u001b[0m \n\u001b[1;32m    381\u001b[0m \u001b[39m    Returns\u001b[39;00m\n\u001b[0;32m   (...)\u001b[0m\n\u001b[1;32m    384\u001b[0m \n\u001b[1;32m    385\u001b[0m \u001b[39m    \"\"\"\u001b[39;00m\n",
      "\u001b[0;31mKeyboardInterrupt\u001b[0m: ",
      "\nDuring handling of the above exception, another exception occurred:\n",
      "\u001b[0;31mNameError\u001b[0m                                 Traceback (most recent call last)",
      "Cell \u001b[0;32mIn[5], line 18\u001b[0m\n\u001b[1;32m     15\u001b[0m         upload_df_s3(proportions_df, filename, c\u001b[39m.\u001b[39mLC_VPATH\n\u001b[1;32m     16\u001b[0m )\n\u001b[1;32m     17\u001b[0m     \u001b[39mexcept\u001b[39;00m \u001b[39mKeyboardInterrupt\u001b[39;00m:\n\u001b[0;32m---> 18\u001b[0m         \u001b[39mprint\u001b[39m(\u001b[39mf\u001b[39m\u001b[39m\"\u001b[39m\u001b[39mExecution interrupted with \u001b[39m\u001b[39m{\u001b[39;00m\u001b[39mlen\u001b[39m(data)\u001b[39m}\u001b[39;00m\u001b[39m records\u001b[39m\u001b[39m\"\u001b[39m)\n\u001b[1;32m     19\u001b[0m         \u001b[39mbreak\u001b[39;00m\n",
      "\u001b[0;31mNameError\u001b[0m: name 'data' is not defined"
     ]
    }
   ],
   "source": [
    "def upload_df_s3(df, filename, vpath):\n",
    "    print(f\"Beginning to upload {len(proportions_df)} rows to {filename}...\")\n",
    "    \n",
    "    df.to_parquet(filename)\n",
    "    s3.meta.client.upload_file(filename, c.S3_BUCKET, f'{vpath}/{filename}')\n",
    "    os.remove(filename)\n",
    "\n",
    "for i in trange(10_000):\n",
    "    try:\n",
    "        data = list(lcp.generate_proportions(10_000, c.LC_K_RING_SETS, c.LC_H3_RES))\n",
    "        h3_idx, records = [x[0] for x in data], [x[1] for x in data]\n",
    "        proportions_df = pd.DataFrame(records, index=h3_idx)\n",
    "        file_id = abs(hash(str(time.time()))) % (10 ** 6)\n",
    "        filename = f'lulc-vector-res{c.LC_H3_RES}-{file_id}.parquet'\n",
    "        upload_df_s3(proportions_df, filename, c.LC_VPATH\n",
    ")\n",
    "    except KeyboardInterrupt:\n",
    "        print(f\"Execution interrupted with {len(data)} records\")\n",
    "        break\n"
   ]
  }
 ],
 "metadata": {
  "kernelspec": {
   "display_name": "vg-venv",
   "language": "python",
   "name": "python3"
  },
  "language_info": {
   "codemirror_mode": {
    "name": "ipython",
    "version": 3
   },
   "file_extension": ".py",
   "mimetype": "text/x-python",
   "name": "python",
   "nbconvert_exporter": "python",
   "pygments_lexer": "ipython3",
   "version": "3.9.11"
  },
  "orig_nbformat": 4
 },
 "nbformat": 4,
 "nbformat_minor": 2
}
