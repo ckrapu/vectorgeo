{
 "cells": [
  {
   "cell_type": "code",
   "execution_count": 7,
   "metadata": {},
   "outputs": [],
   "source": [
    "from vectorgeo.raster import RasterPatches\n",
    "import geopandas as gpd\n",
    "import matplotlib.pyplot as plt\n",
    "import numpy as np\n",
    "import os"
   ]
  },
  {
   "cell_type": "code",
   "execution_count": 8,
   "metadata": {},
   "outputs": [
    {
     "name": "stdout",
     "output_type": "stream",
     "text": [
      "    Loading file 1 / 2\n",
      "    Loading file 2 / 2\n"
     ]
    }
   ],
   "source": [
    "import os\n",
    "import pandas as pd\n",
    "from collections import Counter\n",
    "from h3 import h3\n",
    "from scipy.sparse import csr_matrix\n",
    "\n",
    "def calculate_h3_index(row, resolution=7):\n",
    "    minx, maxx, miny, maxy = row['minx'], row['maxx'], row['miny'], row['maxy']\n",
    "    latitude = (miny + maxy) / 2\n",
    "    longitude = (minx + maxx) / 2\n",
    "    return h3.geo_to_h3(latitude, longitude, resolution)\n",
    "\n",
    "# Initialize the global counter for place types\n",
    "global_counter = Counter()\n",
    "\n",
    "# Initialize the counter-of-counters for H3 indices\n",
    "h3_counter = Counter()\n",
    "\n",
    "# Directory containing the parquet files\n",
    "places_dir = \"/home/ubuntu/vectorgeo/tmp/theme=places/type=place\"\n",
    "\n",
    "# Iterate over all files in the directory\n",
    "files_to_load = os.listdir(places_dir)[0:2]\n",
    "for i, place_filename in enumerate(files_to_load):\n",
    "    print(f\"    Loading file {i+1} / {len(files_to_load)}\")\n",
    "    filepath = os.path.join(places_dir, place_filename)\n",
    "    \n",
    "    if not os.path.isfile(filepath):\n",
    "        continue\n",
    "    \n",
    "    places_df = pd.read_parquet(filepath)\n",
    "    \n",
    "    # Update the global counter for place types\n",
    "    local_counts = places_df['categories'].apply(lambda x: x['main']).value_counts()\n",
    "    global_counter.update(local_counts.to_dict())\n",
    "    \n",
    "    # Calculate H3 index and update the counter-of-counters\n",
    "    places_df['h3_index'] = places_df['bbox'].apply(calculate_h3_index)\n",
    "    for h3_index, group_df in places_df.groupby('h3_index'):\n",
    "        local_counts = group_df['categories'].apply(lambda x: x['main']).value_counts()\n",
    "        if h3_index not in h3_counter:\n",
    "            h3_counter[h3_index] = Counter()\n",
    "        h3_counter[h3_index].update(local_counts.to_dict())\n",
    "\n",
    "# Get the top 1000 most common place types\n",
    "top_1000_places = [place for place, _ in global_counter.most_common(1000)]\n",
    "top_1000_places = sorted(top_1000_places)\n",
    "\n",
    "# Create a sparse matrix\n",
    "h3_indices = sorted(h3_counter.keys())\n",
    "place_indices = {place: i for i, place in enumerate(top_1000_places)}\n",
    "\n",
    "rows, cols, data = [], [], []\n",
    "for row, h3_index in enumerate(h3_indices):\n",
    "    for place, count in h3_counter[h3_index].items():\n",
    "        if place in place_indices:\n",
    "            col = place_indices[place]\n",
    "            rows.append(row)\n",
    "            cols.append(col)\n",
    "            data.append(count)\n",
    "\n",
    "sparse_matrix = csr_matrix((data, (rows, cols)), shape=(len(h3_indices), len(top_1000_places)))\n",
    "\n",
    "# Create a DataFrame to map row indices to H3 indices\n",
    "h3_index_df = pd.Series({'row_index': range(len(h3_indices)), 'h3_index': h3_indices})\n",
    "\n",
    "# Create a DataFrame to map column indices to place names\n",
    "place_name_df = pd.DataFrame({'col_index': range(len(top_1000_places)), 'place_name': top_1000_places})\n",
    "\n",
    "# Now, sparse_matrix is the feature matrix you can use for downstream machine learning.\n",
    "# h3_index_df and place_name_df can be used to map row and column indices back to H3 indices and place names, respectively.\n"
   ]
  },
  {
   "cell_type": "code",
   "execution_count": 3,
   "metadata": {},
   "outputs": [
    {
     "name": "stdout",
     "output_type": "stream",
     "text": [
      "all_data\n"
     ]
    }
   ],
   "source": [
    "import h5py\n",
    "\n",
    "hdf_path = \"/home/ubuntu/vectorgeo/tmp/train.h5\"\n",
    "\n",
    "# Load the HDF5 file\n",
    "hdf = h5py.File(hdf_path, 'r')\n",
    "\n",
    "# List all datasets in the file\n",
    "for key in hdf.keys():\n",
    "    print(key)\n",
    "\n",
    "# Load first 3 elements of all_data\n",
    "all_data = hdf['all_data'][:3]"
   ]
  },
  {
   "cell_type": "code",
   "execution_count": 5,
   "metadata": {},
   "outputs": [],
   "source": [
    "from vectorgeo.raster import RasterPatches\n",
    "import geopandas as gpd\n",
    "import matplotlib.pyplot as plt\n",
    "import numpy as np\n",
    "import os\n",
    "import metaflow as mf\n",
    "import torch\n"
   ]
  },
  {
   "cell_type": "code",
   "execution_count": 6,
   "metadata": {},
   "outputs": [],
   "source": [
    "data = list(mf.Flow(\"TrainLandCoverTripletFlow\") \\\n",
    "    .latest_successful_run \\\n",
    "    .steps())[0] \\\n",
    "    .task \\\n",
    "    .data"
   ]
  },
  {
   "cell_type": "code",
   "execution_count": 7,
   "metadata": {},
   "outputs": [],
   "source": [
    "test_batch_tensor = torch.tensor(data.test_batch, dtype=torch.float32).to(\n",
    "            data.device\n",
    "        )\n",
    "with torch.no_grad():\n",
    "    zs = data.embedding_network(test_batch_tensor).cpu().numpy()"
   ]
  },
  {
   "cell_type": "code",
   "execution_count": 1,
   "metadata": {},
   "outputs": [
    {
     "name": "stdout",
     "output_type": "stream",
     "text": [
      "(5, 3, 24, 32, 32)\n"
     ]
    }
   ],
   "source": [
    "import h5py\n",
    "import numpy as np\n",
    "\n",
    "hdf_path = \"/home/ubuntu/vectorgeo/tmp/train.h5\"\n",
    "\n",
    "# Read the first 5 elements of the HDF5 file\n",
    "array = np.array(h5py.File(hdf_path, 'r')['train_data'][:5])\n",
    "print(array.shape)"
   ]
  },
  {
   "cell_type": "code",
   "execution_count": 5,
   "metadata": {},
   "outputs": [
    {
     "name": "stdout",
     "output_type": "stream",
     "text": [
      "    Loading file 4 / 132\n",
      "    Loading file 6 / 132\n",
      "    Loading file 8 / 132\n",
      "    Loading file 11 / 132\n"
     ]
    }
   ],
   "source": [
    "import matplotlib.pyplot as plt\n",
    "import pandas as pd\n",
    "import os \n",
    "import numpy as np\n",
    "from sklearn.cluster import KMeans\n",
    "\n",
    "# Iterate over all files in ./tmp and load the ones with \"-lcd-\" in the filename\n",
    "# then, subsample 1% of rows at random and take the columns labeled lat / lng\n",
    "# and make a scatter plot\n",
    "\n",
    "# Iterate over all files in the directory\n",
    "files_to_load = os.listdir(\"./tmp\")\n",
    "\n",
    "lats = []\n",
    "lngs = []\n",
    "df = pd.DataFrame()\n",
    "for i, filename in enumerate(files_to_load):\n",
    "    if \"-lcd-\" not in filename:\n",
    "        continue\n",
    "    print(f\"    Loading file {i+1} / {len(files_to_load)}\")\n",
    "    filepath = os.path.join(\"./tmp\", filename)\n",
    "    df_partial = pd.read_parquet(filepath)\n",
    "\n",
    "    # Subsample 1% of rows at random\n",
    "    df_partial = df_partial.sample(frac=0.05)\n",
    "    df = pd.concat([df, df_partial])\n",
    "\n",
    "lngs = df['lng'].tolist()\n",
    "lats = df['lat'].tolist()\n",
    "\n",
    "# Take list-valued vector column and convert to ndarray\n",
    "xs = np.array(df['vector'].tolist())\n",
    "\n",
    "# Apply KMeans with 100 clusters\n",
    "# and add cluster labels to the DataFrame\n",
    "kmeans = KMeans(n_clusters=20)\n",
    "df['cluster'] = kmeans.fit_predict(xs)\n",
    "\n",
    "plt.figure(figsize=(30, 20))\n",
    "plt.scatter(lngs, lats, s=0.5, c=df['cluster'], cmap='tab20')\n",
    "plt.xlim(-180, 180)\n",
    "plt.ylim(-90, 90)\n",
    "#plt.savefig(\"./figures/clusters.png\", dpi=500)"
   ]
  },
  {
   "cell_type": "code",
   "execution_count": 10,
   "metadata": {},
   "outputs": [
    {
     "data": {
      "text/plain": [
       "<matplotlib.collections.PathCollection at 0x7f492b53a5e0>"
      ]
     },
     "execution_count": 10,
     "metadata": {},
     "output_type": "execute_result"
    },
    {
     "data": {
      "image/png": "[encoded data removed]",
      "text/plain": [
       "<Figure size 640x480 with 1 Axes>"
      ]
     },
     "metadata": {},
     "output_type": "display_data"
    }
   ],
   "source": [
    "import h3\n",
    "import json\n",
    "\n",
    "h3_filename = f\"h3s-processed-7.json\"\n",
    "h3_filepath = os.path.join('./tmp', h3_filename)\n",
    "\n",
    "with open(h3_filepath, 'r') as f:\n",
    "    h3s = json.load(f)\n",
    "\n",
    "# Take every 100th H3 index\n",
    "# and convert to lat-long\n",
    "lats = []\n",
    "lngs = []\n",
    "\n",
    "for h3_index in h3s[::100]:\n",
    "    lat, lng = h3.h3_to_geo(h3_index)\n",
    "    lats.append(lat)\n",
    "    lngs.append(lng)\n",
    "\n",
    "plt.scatter(lngs, lats, s=0.5, c='black')\n",
    "\n"
   ]
  },
  {
   "cell_type": "code",
   "execution_count": null,
   "metadata": {},
   "outputs": [],
   "source": [
    "from vectorgeo import transfer, constants as c\n",
    "\n",
    "key = f\"models/{self.model_filename}\"\n",
    "local_model_path = os.path.join(c.TMP_DIR, self.model_filename)\n",
    "transfer.download_file(key, local_model_path)\n",
    "\n",
    "# Load the PyTorch model\n",
    "self.model = torch.load(local_model_path).to(self.device)\n",
    "self.model.eval()\n",
    "print(f\"Loaded model from {key}\")\n",
    "\n",
    "lc_generator = RasterPatches(\n",
    "    c.LC_LOCAL_PATH, self.world_gdf, self.image_size, c.LC_RES_M, full_load=True\n",
    ")\n",
    "\n",
    "dem_generator = RasterPatches(\n",
    "    c.DEM_LOCAL_PATH, self.world_gdf, self.image_size, c.DEM_RES_M, full_load=True\n",
    ")\n"
   ]
  },
  {
   "cell_type": "code",
   "execution_count": 3,
   "metadata": {},
   "outputs": [
    {
     "name": "stdout",
     "output_type": "stream",
     "text": [
      "Vertical Output: [[1. 1.]\n",
      " [1. 1.]\n",
      " [1. 1.]\n",
      " [1. 1.]]\n",
      "Horizontal Output: [[1. 1.]\n",
      " [1. 1.]\n",
      " [1. 1.]\n",
      " [1. 1.]]\n"
     ]
    }
   ],
   "source": [
    "import numpy as np\n",
    "from scipy.signal import convolve2d\n",
    "\n",
    "# Define a small 4x4 grayscale image\n",
    "image = np.array([\n",
    "    [1, 2, 3, 4],\n",
    "    [5, 6, 7, 8],\n",
    "    [9, 10, 11, 12],\n",
    "    [13, 14, 15, 16]\n",
    "])\n",
    "\n",
    "# Define a trivial 3x3 filter for masked convolution\n",
    "def get_masked_filter(mask_type):\n",
    "    filter = np.array([\n",
    "        [1, 2, 3],\n",
    "        [4, 5, 6],\n",
    "        [7, 8, 9]\n",
    "    ])\n",
    "    \n",
    "    if mask_type == \"V\":\n",
    "        # Mask for vertical convolution:\n",
    "        filter[1, 1:] = 0\n",
    "        filter[2, :] = 0\n",
    "    elif mask_type == \"H\":\n",
    "        # Mask for horizontal convolution:\n",
    "        filter[1, 2:] = 0\n",
    "        filter[2, :] = 0\n",
    "        \n",
    "    return filter\n",
    "\n",
    "# Gated activation function\n",
    "def gated_activation(tanh_part, sigmoid_part):\n",
    "    return np.tanh(tanh_part) * (1 / (1 + np.exp(-sigmoid_part)))\n",
    "\n",
    "# Forward pass for a single Gated Convolutional Block\n",
    "def gated_pixelcnn_block(image):\n",
    "    # Vertical convolution\n",
    "    v_filter = get_masked_filter(\"V\")\n",
    "    v_conv = convolve2d(image, v_filter, mode='same', boundary='wrap')\n",
    "    v_tanh, v_sigmoid = np.split(v_conv, 2, axis=1)\n",
    "    v_out = gated_activation(v_tanh, v_sigmoid)\n",
    "    \n",
    "    # Horizontal convolution\n",
    "    h_filter = get_masked_filter(\"H\")\n",
    "    h_conv = convolve2d(image, h_filter, mode='same', boundary='wrap')\n",
    "    h_tanh, h_sigmoid = np.split(h_conv, 2, axis=1)\n",
    "    h_out = gated_activation(h_tanh + v_out, h_sigmoid)\n",
    "    \n",
    "    return v_out, h_out\n",
    "\n",
    "v_out, h_out = gated_pixelcnn_block(image)\n",
    "print(\"Vertical Output:\", v_out)\n",
    "print(\"Horizontal Output:\", h_out)\n"
   ]
  },
  {
   "cell_type": "code",
   "execution_count": null,
   "metadata": {},
   "outputs": [],
   "source": []
  }
 ],
 "metadata": {
  "kernelspec": {
   "display_name": "vg-venv",
   "language": "python",
   "name": "vg-venv"
  },
  "language_info": {
   "codemirror_mode": {
    "name": "ipython",
    "version": 3
   },
   "file_extension": ".py",
   "mimetype": "text/x-python",
   "name": "python",
   "nbconvert_exporter": "python",
   "pygments_lexer": "ipython3",
   "version": "3.8.10"
  }
 },
 "nbformat": 4,
 "nbformat_minor": 2
}
