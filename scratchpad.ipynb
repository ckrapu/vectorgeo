{
 "cells": [
  {
   "cell_type": "markdown",
   "metadata": {},
   "source": [
    " "
   ]
  },
  {
   "cell_type": "code",
   "execution_count": 2,
   "metadata": {},
   "outputs": [
    {
     "name": "stdout",
     "output_type": "stream",
     "text": [
      "File /home/ubuntu/vectorgeo/tmp/world.gpkg already exists; skipping download\n",
      "File /home/ubuntu/vectorgeo/tmp/resnet-triplet-lc.pt already exists; skipping download\n",
      "Loaded model from models/resnet-triplet-lc.pt\n",
      "File /home/ubuntu/vectorgeo/tmp/PROBAV_LC100_global_v3.0.1_2019-nrt_Discrete-Classification-map_EPSG-4326.tif already exists; skipping download\n",
      "File /home/ubuntu/vectorgeo/tmp/h3-state.json already exists; skipping download\n"
     ]
    },
    {
     "name": "stderr",
     "output_type": "stream",
     "text": [
      "2it [00:00, 18.35it/s]"
     ]
    },
    {
     "name": "stdout",
     "output_type": "stream",
     "text": [
      "Processing cell 0: 872d60228ffffff\n"
     ]
    },
    {
     "name": "stderr",
     "output_type": "stream",
     "text": [
      "5002it [04:33, 18.68it/s]"
     ]
    },
    {
     "name": "stdout",
     "output_type": "stream",
     "text": [
      "Processing cell 5000: 872d604a6ffffff\n"
     ]
    },
    {
     "name": "stderr",
     "output_type": "stream",
     "text": [
      "7471it [06:48, 18.29it/s]\n"
     ]
    },
    {
     "ename": "KeyboardInterrupt",
     "evalue": "",
     "output_type": "error",
     "traceback": [
      "\u001b[0;31m---------------------------------------------------------------------------\u001b[0m",
      "\u001b[0;31mKeyboardInterrupt\u001b[0m                         Traceback (most recent call last)",
      "\u001b[0;32m<ipython-input-2-2ae82e8a3cfe>\u001b[0m in \u001b[0;36m<module>\u001b[0;34m\u001b[0m\n\u001b[1;32m     94\u001b[0m     \u001b[0mpoly\u001b[0m \u001b[0;34m=\u001b[0m \u001b[0mPolygon\u001b[0m\u001b[0;34m(\u001b[0m\u001b[0;34m(\u001b[0m\u001b[0mx\u001b[0m\u001b[0;34m,\u001b[0m \u001b[0my\u001b[0m\u001b[0;34m)\u001b[0m \u001b[0;32mfor\u001b[0m \u001b[0my\u001b[0m\u001b[0;34m,\u001b[0m \u001b[0mx\u001b[0m \u001b[0;32min\u001b[0m \u001b[0mh3\u001b[0m\u001b[0;34m.\u001b[0m\u001b[0mh3_to_geo_boundary\u001b[0m\u001b[0;34m(\u001b[0m\u001b[0mcell\u001b[0m\u001b[0;34m)\u001b[0m\u001b[0;34m)\u001b[0m\u001b[0;34m\u001b[0m\u001b[0;34m\u001b[0m\u001b[0m\n\u001b[1;32m     95\u001b[0m \u001b[0;34m\u001b[0m\u001b[0m\n\u001b[0;32m---> 96\u001b[0;31m     \u001b[0;32mif\u001b[0m \u001b[0;32mnot\u001b[0m \u001b[0mworld_geom\u001b[0m\u001b[0;34m.\u001b[0m\u001b[0mintersects\u001b[0m\u001b[0;34m(\u001b[0m\u001b[0mpoly\u001b[0m\u001b[0;34m)\u001b[0m\u001b[0;34m:\u001b[0m\u001b[0;34m\u001b[0m\u001b[0;34m\u001b[0m\u001b[0m\n\u001b[0m\u001b[1;32m     97\u001b[0m         \u001b[0mh3s_processed\u001b[0m\u001b[0;34m.\u001b[0m\u001b[0madd\u001b[0m\u001b[0;34m(\u001b[0m\u001b[0mcell\u001b[0m\u001b[0;34m)\u001b[0m\u001b[0;34m\u001b[0m\u001b[0;34m\u001b[0m\u001b[0m\n\u001b[1;32m     98\u001b[0m         \u001b[0;32mcontinue\u001b[0m\u001b[0;34m\u001b[0m\u001b[0;34m\u001b[0m\u001b[0m\n",
      "\u001b[0;32m~/.local/lib/python3.8/site-packages/shapely/geometry/base.py\u001b[0m in \u001b[0;36mintersects\u001b[0;34m(self, other)\u001b[0m\n\u001b[1;32m    700\u001b[0m     \u001b[0;32mdef\u001b[0m \u001b[0mintersects\u001b[0m\u001b[0;34m(\u001b[0m\u001b[0mself\u001b[0m\u001b[0;34m,\u001b[0m \u001b[0mother\u001b[0m\u001b[0;34m)\u001b[0m\u001b[0;34m:\u001b[0m\u001b[0;34m\u001b[0m\u001b[0;34m\u001b[0m\u001b[0m\n\u001b[1;32m    701\u001b[0m         \u001b[0;34m\"\"\"Returns True if geometries intersect, else False\"\"\"\u001b[0m\u001b[0;34m\u001b[0m\u001b[0;34m\u001b[0m\u001b[0m\n\u001b[0;32m--> 702\u001b[0;31m         \u001b[0;32mreturn\u001b[0m \u001b[0m_maybe_unpack\u001b[0m\u001b[0;34m(\u001b[0m\u001b[0mshapely\u001b[0m\u001b[0;34m.\u001b[0m\u001b[0mintersects\u001b[0m\u001b[0;34m(\u001b[0m\u001b[0mself\u001b[0m\u001b[0;34m,\u001b[0m \u001b[0mother\u001b[0m\u001b[0;34m)\u001b[0m\u001b[0;34m)\u001b[0m\u001b[0;34m\u001b[0m\u001b[0;34m\u001b[0m\u001b[0m\n\u001b[0m\u001b[1;32m    703\u001b[0m \u001b[0;34m\u001b[0m\u001b[0m\n\u001b[1;32m    704\u001b[0m     \u001b[0;32mdef\u001b[0m \u001b[0moverlaps\u001b[0m\u001b[0;34m(\u001b[0m\u001b[0mself\u001b[0m\u001b[0;34m,\u001b[0m \u001b[0mother\u001b[0m\u001b[0;34m)\u001b[0m\u001b[0;34m:\u001b[0m\u001b[0;34m\u001b[0m\u001b[0;34m\u001b[0m\u001b[0m\n",
      "\u001b[0;32m~/.local/lib/python3.8/site-packages/shapely/decorators.py\u001b[0m in \u001b[0;36mwrapped\u001b[0;34m(*args, **kwargs)\u001b[0m\n\u001b[1;32m     75\u001b[0m             \u001b[0;32mfor\u001b[0m \u001b[0marr\u001b[0m \u001b[0;32min\u001b[0m \u001b[0marray_args\u001b[0m\u001b[0;34m:\u001b[0m\u001b[0;34m\u001b[0m\u001b[0;34m\u001b[0m\u001b[0m\n\u001b[1;32m     76\u001b[0m                 \u001b[0marr\u001b[0m\u001b[0;34m.\u001b[0m\u001b[0mflags\u001b[0m\u001b[0;34m.\u001b[0m\u001b[0mwriteable\u001b[0m \u001b[0;34m=\u001b[0m \u001b[0;32mFalse\u001b[0m\u001b[0;34m\u001b[0m\u001b[0;34m\u001b[0m\u001b[0m\n\u001b[0;32m---> 77\u001b[0;31m             \u001b[0;32mreturn\u001b[0m \u001b[0mfunc\u001b[0m\u001b[0;34m(\u001b[0m\u001b[0;34m*\u001b[0m\u001b[0margs\u001b[0m\u001b[0;34m,\u001b[0m \u001b[0;34m**\u001b[0m\u001b[0mkwargs\u001b[0m\u001b[0;34m)\u001b[0m\u001b[0;34m\u001b[0m\u001b[0;34m\u001b[0m\u001b[0m\n\u001b[0m\u001b[1;32m     78\u001b[0m         \u001b[0;32mfinally\u001b[0m\u001b[0;34m:\u001b[0m\u001b[0;34m\u001b[0m\u001b[0;34m\u001b[0m\u001b[0m\n\u001b[1;32m     79\u001b[0m             \u001b[0;32mfor\u001b[0m \u001b[0marr\u001b[0m\u001b[0;34m,\u001b[0m \u001b[0mold_flag\u001b[0m \u001b[0;32min\u001b[0m \u001b[0mzip\u001b[0m\u001b[0;34m(\u001b[0m\u001b[0marray_args\u001b[0m\u001b[0;34m,\u001b[0m \u001b[0mold_flags\u001b[0m\u001b[0;34m)\u001b[0m\u001b[0;34m:\u001b[0m\u001b[0;34m\u001b[0m\u001b[0;34m\u001b[0m\u001b[0m\n",
      "\u001b[0;32m~/.local/lib/python3.8/site-packages/shapely/predicates.py\u001b[0m in \u001b[0;36mintersects\u001b[0;34m(a, b, **kwargs)\u001b[0m\n\u001b[1;32m    796\u001b[0m     \u001b[0;32mFalse\u001b[0m\u001b[0;34m\u001b[0m\u001b[0;34m\u001b[0m\u001b[0m\n\u001b[1;32m    797\u001b[0m     \"\"\"\n\u001b[0;32m--> 798\u001b[0;31m     \u001b[0;32mreturn\u001b[0m \u001b[0mlib\u001b[0m\u001b[0;34m.\u001b[0m\u001b[0mintersects\u001b[0m\u001b[0;34m(\u001b[0m\u001b[0ma\u001b[0m\u001b[0;34m,\u001b[0m \u001b[0mb\u001b[0m\u001b[0;34m,\u001b[0m \u001b[0;34m**\u001b[0m\u001b[0mkwargs\u001b[0m\u001b[0;34m)\u001b[0m\u001b[0;34m\u001b[0m\u001b[0;34m\u001b[0m\u001b[0m\n\u001b[0m\u001b[1;32m    799\u001b[0m \u001b[0;34m\u001b[0m\u001b[0m\n\u001b[1;32m    800\u001b[0m \u001b[0;34m\u001b[0m\u001b[0m\n",
      "\u001b[0;31mKeyboardInterrupt\u001b[0m: "
     ]
    }
   ],
   "source": [
    "import os\n",
    "import yaml\n",
    "import numpy as np\n",
    "import h3\n",
    "import geopandas as gpd\n",
    "import torch\n",
    "from tqdm import tqdm\n",
    "from qdrant_client import QdrantClient\n",
    "from qdrant_client.http.models import Distance, VectorParams, PointStruct\n",
    "from shapely.geometry import Polygon\n",
    "\n",
    "import vectorgeo.constants as c\n",
    "import vectorgeo.transfer as transfer\n",
    "from vectorgeo.h3_utils import H3GlobalIterator\n",
    "from vectorgeo.landcover import LandCoverPatches\n",
    "\n",
    "# Parameters\n",
    "wipe_qdrant = False\n",
    "inference_batch_size = 32\n",
    "h3_resolution = 7\n",
    "image_size = 32\n",
    "model_filename = \"resnet-triplet-lc.pt\"\n",
    "embed_dim = 16\n",
    "seed_latlng = (47.475099, -122.170557)  # Seattle, WA\n",
    "max_iters = None\n",
    "qdrant_collection = c.QDRANT_COLLECTION_NAME\n",
    "device = 'cuda'\n",
    "\n",
    "\n",
    "# Load secrets\n",
    "secrets = yaml.load(open(os.path.join(c.BASE_DIR, '.secrets.yml')), Loader=yaml.FullLoader)\n",
    "\n",
    "# Download world geometry\n",
    "world_path = os.path.join(c.TMP_DIR, 'world.gpkg')\n",
    "transfer.download_file('misc/world.gpkg', world_path)\n",
    "world_gdf = gpd.read_file(world_path)\n",
    "world_geom = world_gdf.iloc[0].geometry.simplify(0.1)\n",
    "\n",
    "qdrant_client = QdrantClient(\n",
    "        url=secrets['qdrant_url'],\n",
    "        api_key=secrets['qdrant_api_key']\n",
    "    )\n",
    "\n",
    "# Wipe Qdrant collection if needed\n",
    "if wipe_qdrant:\n",
    "    print(f\"Wiping Qdrant collection {qdrant_collection}\")\n",
    "    \n",
    "    qdrant_client.recreate_collection(\n",
    "        collection_name=qdrant_collection,\n",
    "        vectors_config=VectorParams(size=embed_dim, distance=Distance.DOT),\n",
    "    )\n",
    "\n",
    "# Load the PyTorch model\n",
    "key = f\"models/{model_filename}\"\n",
    "local_model_path = os.path.join(c.TMP_DIR, model_filename)\n",
    "transfer.download_file(key, local_model_path)\n",
    "model = torch.load(local_model_path).to(device)\n",
    "model.eval()\n",
    "print(f\"Loaded model from {key}\")\n",
    "\n",
    "# Download land cover data\n",
    "lc_key = 'raw/' + c.COPERNICUS_LC_KEY\n",
    "transfer.download_file(lc_key, c.LC_LOCAL_PATH)\n",
    "lcp = LandCoverPatches(c.LC_LOCAL_PATH, world_gdf, image_size, full_load=False)\n",
    "\n",
    "# Initialize H3 iterator\n",
    "state_filepath = os.path.join(c.TMP_DIR, c.H3_STATE_FILENAME)\n",
    "try:\n",
    "    transfer.download_file('misc/h3-state.json', state_filepath)\n",
    "except Exception as e:\n",
    "    print(f\"Encountered exception {e} while downloading state file\")\n",
    "    print(\"No state file found; starting from scratch\")\n",
    "\n",
    "iterator = H3GlobalIterator(seed_latlng[0], seed_latlng[1], h3_resolution, state_file=state_filepath)\n",
    "int_map       = {x: i for i, x in enumerate(c.LC_LEGEND.keys())}\n",
    "int_map_fn    = np.vectorize(int_map.get)\n",
    "\n",
    "# Main inference loop\n",
    "h3_batch = []\n",
    "xs_batch = []\n",
    "h3s_processed = set()\n",
    "\n",
    "for i, cell in enumerate(tqdm(iterator)):\n",
    "    if i % 5000 == 0:\n",
    "        print(f\"Processing cell {i}: {cell}\")\n",
    "        iterator.save_state()\n",
    "        transfer.upload(c.H3_STATE_KEY, state_filepath)        \n",
    "\n",
    "    if max_iters and i >= int(max_iters):\n",
    "        print(f\"Reached max_iters {max_iters}; stopping\")\n",
    "        break\n",
    "\n",
    "    poly = Polygon((x, y) for y, x in h3.h3_to_geo_boundary(cell))\n",
    "\n",
    "    if not world_geom.intersects(poly):\n",
    "        h3s_processed.add(cell)\n",
    "        continue\n",
    "\n",
    "    xs = int_map_fn(lcp.h3_to_patch(cell))\n",
    "\n",
    "    xs_one_hot = np.zeros((c.LC_N_CLASSES, image_size, image_size))\n",
    "\n",
    "    for i in range(c.LC_N_CLASSES):\n",
    "        xs_one_hot[i] = (xs == i).squeeze().astype(int)\n",
    "\n",
    "    h3_batch.append(cell)\n",
    "    xs_batch.append(xs_one_hot)\n",
    "\n",
    "    if len(h3_batch) >= inference_batch_size:\n",
    "        xs_one_hot_tensor = torch.tensor(np.stack(xs_batch, axis=0), dtype=torch.float32).to(device)\n",
    "        with torch.no_grad():\n",
    "            zs_batch = model(xs_one_hot_tensor).cpu().numpy().squeeze().tolist()\n",
    "\n",
    "        coords = [h3.h3_to_geo(h3_index) for h3_index in h3_batch]\n",
    "        lats, lngs = zip(*coords)\n",
    "\n",
    "        _ = qdrant_client.upsert(\n",
    "            collection_name=qdrant_collection,\n",
    "            wait=True,\n",
    "            points=[PointStruct(\n",
    "                id=int(\"0x\" + id, 0),\n",
    "                vector=vector,\n",
    "                payload={\"location\": {\"lon\": lng, \"lat\": lat}}\n",
    "            ) for id, vector, lng, lat in zip(h3_batch, zs_batch, lngs, lats)]\n",
    "        )\n",
    "        h3s_processed = h3s_processed.union(set(h3_batch))\n",
    "        h3_batch = []\n",
    "        xs_batch = []\n"
   ]
  },
  {
   "cell_type": "markdown",
   "metadata": {},
   "source": [
    "### Convert borders shapefile to geopackage"
   ]
  },
  {
   "cell_type": "code",
   "execution_count": 2,
   "metadata": {},
   "outputs": [
    {
     "ename": "CPLE_AppDefinedError",
     "evalue": "b'sqlite3_exec(CREATE TRIGGER \"trigger_delete_feature_count_world\" AFTER DELETE ON \"world\" BEGIN UPDATE gpkg_ogr_contents SET feature_count = feature_count - 1 WHERE lower(table_name) = lower(\\'world\\'); END;) failed: disk I/O error'",
     "output_type": "error",
     "traceback": [
      "\u001b[0;31m---------------------------------------------------------------------------\u001b[0m",
      "\u001b[0;31mCPLE_AppDefinedError\u001b[0m                      Traceback (most recent call last)",
      "File \u001b[0;32mfiona/_err.pyx:198\u001b[0m, in \u001b[0;36mfiona._err.GDALErrCtxManager.__exit__\u001b[0;34m()\u001b[0m\n",
      "\u001b[0;31mCPLE_AppDefinedError\u001b[0m: b'sqlite3_exec(CREATE TRIGGER \"trigger_delete_feature_count_world\" AFTER DELETE ON \"world\" BEGIN UPDATE gpkg_ogr_contents SET feature_count = feature_count - 1 WHERE lower(table_name) = lower(\\'world\\'); END;) failed: disk I/O error'"
     ]
    },
    {
     "name": "stderr",
     "output_type": "stream",
     "text": [
      "Exception ignored in: 'fiona.ogrext.gdal_flush_cache'\n",
      "Traceback (most recent call last):\n",
      "  File \"fiona/_err.pyx\", line 198, in fiona._err.GDALErrCtxManager.__exit__\n",
      "fiona._err.CPLE_AppDefinedError: b'sqlite3_exec(CREATE TRIGGER \"trigger_delete_feature_count_world\" AFTER DELETE ON \"world\" BEGIN UPDATE gpkg_ogr_contents SET feature_count = feature_count - 1 WHERE lower(table_name) = lower(\\'world\\'); END;) failed: disk I/O error'\n"
     ]
    }
   ],
   "source": [
    "import geopandas as gpd\n",
    "\n",
    "gdf = gpd.read_file('lql-data/misc/WB_countries_Admin0_10m/WB_countries_Admin0_10m.shp')\n",
    "new_geoms = [gdf.unary_union]\n",
    "\n",
    "world_gdf = gpd.GeoDataFrame(geometry=new_geoms, crs=gdf.crs)\n",
    "world_gdf.to_file('lql-data/misc/world.gpkg', driver='GPKG')"
   ]
  },
  {
   "cell_type": "code",
   "execution_count": null,
   "metadata": {},
   "outputs": [],
   "source": []
  }
 ],
 "metadata": {
  "kernelspec": {
   "display_name": "Python 3",
   "language": "python",
   "name": "python3"
  },
  "language_info": {
   "codemirror_mode": {
    "name": "ipython",
    "version": 3
   },
   "file_extension": ".py",
   "mimetype": "text/x-python",
   "name": "python",
   "nbconvert_exporter": "python",
   "pygments_lexer": "ipython3",
   "version": "3.8.10"
  }
 },
 "nbformat": 4,
 "nbformat_minor": 2
}
